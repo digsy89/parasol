{
  "nbformat": 4,
  "nbformat_minor": 0,
  "metadata": {
    "colab": {
      "name": "Parasol Tokenizer Experiment의 사본",
      "provenance": [],
      "collapsed_sections": [],
      "machine_shape": "hm"
    },
    "kernelspec": {
      "name": "python3",
      "display_name": "Python 3"
    },
    "accelerator": "GPU"
  },
  "cells": [
    {
      "cell_type": "code",
      "metadata": {
        "id": "C1Rt8d2--fvr",
        "colab_type": "code",
        "colab": {
          "base_uri": "https://localhost:8080/",
          "height": 408
        },
        "outputId": "2e8c3f46-356f-4871-d393-4e889ec23f1e"
      },
      "source": [
        "!pip install parasol-nlp\n",
        "!pip install konlpy\n",
        "#!pip install tensorflow-gpu==1.15.2"
      ],
      "execution_count": 1,
      "outputs": [
        {
          "output_type": "stream",
          "text": [
            "Requirement already satisfied: parasol-nlp in /usr/local/lib/python3.6/dist-packages (0.0.4)\n",
            "Requirement already satisfied: importlib-resources in /usr/local/lib/python3.6/dist-packages (from parasol-nlp) (3.0.0)\n",
            "Requirement already satisfied: transitions in /usr/local/lib/python3.6/dist-packages (from parasol-nlp) (0.8.2)\n",
            "Requirement already satisfied: sentencepiece in /usr/local/lib/python3.6/dist-packages (from parasol-nlp) (0.1.91)\n",
            "Requirement already satisfied: hgtk in /usr/local/lib/python3.6/dist-packages (from parasol-nlp) (0.1.3)\n",
            "Requirement already satisfied: zipp>=0.4; python_version < \"3.8\" in /usr/local/lib/python3.6/dist-packages (from importlib-resources->parasol-nlp) (3.1.0)\n",
            "Requirement already satisfied: six in /usr/local/lib/python3.6/dist-packages (from transitions->parasol-nlp) (1.12.0)\n",
            "Requirement already satisfied: konlpy in /usr/local/lib/python3.6/dist-packages (0.5.2)\n",
            "Requirement already satisfied: beautifulsoup4==4.6.0 in /usr/local/lib/python3.6/dist-packages (from konlpy) (4.6.0)\n",
            "Requirement already satisfied: tweepy>=3.7.0 in /usr/local/lib/python3.6/dist-packages (from konlpy) (3.8.0)\n",
            "Requirement already satisfied: numpy>=1.6 in /usr/local/lib/python3.6/dist-packages (from konlpy) (1.18.5)\n",
            "Requirement already satisfied: lxml>=4.1.0 in /usr/local/lib/python3.6/dist-packages (from konlpy) (4.2.6)\n",
            "Requirement already satisfied: colorama in /usr/local/lib/python3.6/dist-packages (from konlpy) (0.4.3)\n",
            "Requirement already satisfied: JPype1>=0.7.0 in /usr/local/lib/python3.6/dist-packages (from konlpy) (0.7.5)\n",
            "Requirement already satisfied: requests>=2.11.1 in /usr/local/lib/python3.6/dist-packages (from tweepy>=3.7.0->konlpy) (2.23.0)\n",
            "Requirement already satisfied: six>=1.10.0 in /usr/local/lib/python3.6/dist-packages (from tweepy>=3.7.0->konlpy) (1.12.0)\n",
            "Requirement already satisfied: PySocks>=1.5.7 in /usr/local/lib/python3.6/dist-packages (from tweepy>=3.7.0->konlpy) (1.7.1)\n",
            "Requirement already satisfied: requests-oauthlib>=0.7.0 in /usr/local/lib/python3.6/dist-packages (from tweepy>=3.7.0->konlpy) (1.3.0)\n",
            "Requirement already satisfied: urllib3!=1.25.0,!=1.25.1,<1.26,>=1.21.1 in /usr/local/lib/python3.6/dist-packages (from requests>=2.11.1->tweepy>=3.7.0->konlpy) (1.24.3)\n",
            "Requirement already satisfied: chardet<4,>=3.0.2 in /usr/local/lib/python3.6/dist-packages (from requests>=2.11.1->tweepy>=3.7.0->konlpy) (3.0.4)\n",
            "Requirement already satisfied: idna<3,>=2.5 in /usr/local/lib/python3.6/dist-packages (from requests>=2.11.1->tweepy>=3.7.0->konlpy) (2.9)\n",
            "Requirement already satisfied: certifi>=2017.4.17 in /usr/local/lib/python3.6/dist-packages (from requests>=2.11.1->tweepy>=3.7.0->konlpy) (2020.6.20)\n",
            "Requirement already satisfied: oauthlib>=3.0.0 in /usr/local/lib/python3.6/dist-packages (from requests-oauthlib>=0.7.0->tweepy>=3.7.0->konlpy) (3.1.0)\n"
          ],
          "name": "stdout"
        }
      ]
    },
    {
      "cell_type": "code",
      "metadata": {
        "id": "MrP5Vazkm-Fy",
        "colab_type": "code",
        "colab": {
          "base_uri": "https://localhost:8080/",
          "height": 34
        },
        "outputId": "610ab65c-26a7-4e72-f37f-13e15c41358e"
      },
      "source": [
        "try:\n",
        "  # %tensorflow_version only exists in Colab.\n",
        "  %tensorflow_version 2.x\n",
        "except Exception:\n",
        "  pass\n",
        "import tensorflow as tf\n",
        "print(tf.__version__)\n",
        "from parasol import Tokenizer\n",
        "\n",
        "import numpy as np\n",
        "import os\n",
        "import re\n",
        "import time\n",
        "from collections import Counter"
      ],
      "execution_count": 2,
      "outputs": [
        {
          "output_type": "stream",
          "text": [
            "2.2.0\n"
          ],
          "name": "stdout"
        }
      ]
    },
    {
      "cell_type": "markdown",
      "metadata": {
        "id": "pY8VcPxP_ht1",
        "colab_type": "text"
      },
      "source": [
        "# Prepare data\n",
        "\n",
        "### Read data"
      ]
    },
    {
      "cell_type": "code",
      "metadata": {
        "id": "ma0oduIogbJO",
        "colab_type": "code",
        "colab": {
          "base_uri": "https://localhost:8080/",
          "height": 139
        },
        "outputId": "27d9db20-9075-4b8f-eb9b-5eda11fb9c29"
      },
      "source": [
        "with open(\"small\", \"r\") as f:\n",
        "  text = f.read()\n",
        "\n",
        "text = re.sub(r\"\\([^\\)]+\\)\", \"\", text).strip()\n",
        "text = '\\n'.join([ t for t in text.split('\\n') if re.search(r'[一-龯ぁ-んァ-ン]+', t)==None])\n",
        "print(\"Text Sample >>\\n{}\\n\".format(text[:200]))\n",
        "print(\"Length >>\\n{}\".format(len(text)))"
      ],
      "execution_count": 3,
      "outputs": [
        {
          "output_type": "stream",
          "text": [
            "Text Sample >>\n",
            "T-50 골든이글\n",
            "KAI T-50 골든이글()은 대한민국이 제작한 초음속 고등 훈련기이다. 2005년 10월부터 제작사인 한국항공우주산업에서 양산에 들어가, 2005년 12월에 1호기가 납품되었다. 2008년 3월 25일 초도분량 25대 도입이 모두 완료되어 기존의 T-38 탤론의 역할을 대체하였다. 현재 납품된 기체는 대한민국 공군 1 전투비행단소속 18\n",
            "\n",
            "Length >>\n",
            "7641228\n"
          ],
          "name": "stdout"
        }
      ]
    },
    {
      "cell_type": "markdown",
      "metadata": {
        "id": "NLrGofpR_nvs",
        "colab_type": "text"
      },
      "source": [
        "### Preprocess text data\n",
        "\n",
        "Load data and tokenize. Convert to id"
      ]
    },
    {
      "cell_type": "code",
      "metadata": {
        "id": "xITCg3XfYLyB",
        "colab_type": "code",
        "colab": {}
      },
      "source": [
        "def encode_data(text, tokenize, vocab_size=None):\n",
        "\n",
        "  tokens = []\n",
        "  for line in text.split(\"\\n\"):\n",
        "    if len(line.strip())==0: continue;\n",
        "    tokens.extend(tokenize(line))\n",
        "  print(\"Tokenization done.\")\n",
        "\n",
        "  c = Counter(tokens)\n",
        "  if vocab_size:\n",
        "    vocabs = ['UNK'] + [ word for word, cnt in c.most_common(vocab_size - 1) ]\n",
        "  else:\n",
        "    vocabs = [ word for word, cnt in c.most_common() ]\n",
        "    vocab_size = len(vocabs)\n",
        "\n",
        "  print(f\"Total number of tokens: {len(tokens)}. Vocab size: {vocab_size}\")\n",
        "  word2id = { word: idx for idx, word in enumerate(vocabs)}\n",
        "  text_encoded = np.array([word2id.get(t,0) for t in tokens])\n",
        "\n",
        "  return text_encoded, vocab_size"
      ],
      "execution_count": 4,
      "outputs": []
    },
    {
      "cell_type": "markdown",
      "metadata": {
        "id": "mBk40rOcbJZ5",
        "colab_type": "text"
      },
      "source": [
        "### Make tensorflow dataset\n",
        "\n",
        "Make language model data(input, target) and convert to tensorflow batch data"
      ]
    },
    {
      "cell_type": "code",
      "metadata": {
        "id": "5bc0rQHhAIzl",
        "colab_type": "code",
        "colab": {}
      },
      "source": [
        "# 임베딩 차원\n",
        "embedding_dim = 64\n",
        "\n",
        "# RNN 유닛(unit) 개수\n",
        "rnn_units = 256\n",
        "\n",
        "batch_size = 64\n",
        "\n",
        "buffer_size = 1000\n",
        "\n",
        "seq_length = 100"
      ],
      "execution_count": 5,
      "outputs": []
    },
    {
      "cell_type": "code",
      "metadata": {
        "id": "zqLiVDKRaibW",
        "colab_type": "code",
        "colab": {}
      },
      "source": [
        "def split_input_target(chunk):\n",
        "    input_text = chunk[:-1]\n",
        "    target_text = chunk[1:]\n",
        "    return input_text, target_text\n",
        "\n",
        "def batch_dataset(text_encoded):\n",
        "  token_dataset = tf.data.Dataset.from_tensor_slices(text_encoded)\n",
        "  sequences = token_dataset.batch(seq_length+1, drop_remainder=True)\n",
        "  dataset = sequences.map(split_input_target)\n",
        "  dataset = dataset.shuffle(buffer_size).batch(batch_size, drop_remainder=True)\n",
        "  dataset = dataset.repeat()\n",
        "  return dataset"
      ],
      "execution_count": 6,
      "outputs": []
    },
    {
      "cell_type": "markdown",
      "metadata": {
        "id": "aPQxjHhpb0J0",
        "colab_type": "text"
      },
      "source": [
        "# Language model neural network\n",
        "\n",
        "### Define model"
      ]
    },
    {
      "cell_type": "code",
      "metadata": {
        "id": "vYCKuWqxAPwD",
        "colab_type": "code",
        "colab": {}
      },
      "source": [
        "def build_model(vocab_size, embedding_dim, rnn_units, batch_size):\n",
        "  model = tf.keras.Sequential([\n",
        "    tf.keras.layers.Embedding(vocab_size, embedding_dim,\n",
        "                              batch_input_shape=[batch_size, None]),\n",
        "    tf.keras.layers.LSTM(rnn_units,\n",
        "                        return_sequences=True,\n",
        "                        stateful=False,\n",
        "                        recurrent_initializer='glorot_uniform'),\n",
        "    tf.keras.layers.Dense(vocab_size)\n",
        "  ])\n",
        "  return model"
      ],
      "execution_count": 7,
      "outputs": []
    },
    {
      "cell_type": "markdown",
      "metadata": {
        "id": "ZigsvYwVcTT8",
        "colab_type": "text"
      },
      "source": [
        "### Train\n",
        "\n",
        "Log perplexity"
      ]
    },
    {
      "cell_type": "code",
      "metadata": {
        "id": "q1GUczFQB4dS",
        "colab_type": "code",
        "colab": {}
      },
      "source": [
        "from collections import defaultdict\n",
        "\n",
        "class LossCallback(tf.keras.callbacks.Callback):\n",
        "  def __init__(self, name, log_dict):\n",
        "    super(LossCallback, self).__init__()\n",
        "    self.name = name\n",
        "    self.writer = None\n",
        "    self.log_dict = log_dict\n",
        "\n",
        "  def on_train_batch_end(self, batch, logs=None):\n",
        "    if self.writer is None:\n",
        "      self.writer = open(f\"{self.name}.log\", \"w\")\n",
        "    \n",
        "    self.writer.write(\"{}\\t{:.4f}\\n\".format(batch, logs[\"loss\"]))\n",
        "    self.log_dict[self.name].append((batch, logs[\"loss\"]))\n",
        "\n",
        "  def on_train_end(self, logs=None):\n",
        "    self.writer.close()"
      ],
      "execution_count": 8,
      "outputs": []
    },
    {
      "cell_type": "code",
      "metadata": {
        "id": "byGrFpsfXQBM",
        "colab_type": "code",
        "colab": {}
      },
      "source": [
        "def run_experiment(text, tokenize, name, log_dict):\n",
        "  text_encoded, vocab_size = encode_data(text, tokenize, 30000)\n",
        "  dataset = batch_dataset(text_encoded)\n",
        "\n",
        "  model = build_model(vocab_size, embedding_dim, rnn_units, batch_size)\n",
        "  model.compile(optimizer='sgd', loss=\"sparse_categorical_crossentropy\")\n",
        "  \n",
        "  examples_per_epoch = len(text_encoded)//seq_length\n",
        "  steps_per_epoch = examples_per_epoch // batch_size\n",
        "\n",
        "  logger = LossCallback(name, log_dict)\n",
        "  model.fit(dataset, steps_per_epoch=steps_per_epoch, epochs=10, verbose=1, callbacks=[logger])"
      ],
      "execution_count": 9,
      "outputs": []
    },
    {
      "cell_type": "code",
      "metadata": {
        "id": "uaYXRdg3pKyY",
        "colab_type": "code",
        "colab": {
          "base_uri": "https://localhost:8080/",
          "height": 1000
        },
        "outputId": "db3d84cf-2a47-41d3-8d99-053e83958a41"
      },
      "source": [
        "log = defaultdict(list)\n",
        "\n",
        "t1 = Tokenizer(decompose=True)\n",
        "tokenize = lambda x:t1.tokenize(x, as_id=True)\n",
        "run_experiment(text, tokenize, \"bpe_with_decomposition\", log)\n",
        "\n",
        "t2 = Tokenizer(decompose=False)\n",
        "tokenize = lambda x:t2.tokenize(x, as_id=True)\n",
        "run_experiment(text, tokenize, \"bpe_no_decomposition\", log)\n",
        "\n",
        "from konlpy.tag import Komoran\n",
        "k = Komoran()\n",
        "def tokenize(text):\n",
        "  poses = k.pos(text)\n",
        "  return [ a for a,b in poses ]\n",
        "run_experiment(text, tokenize, \"morph_analyzer_komoran\", log)"
      ],
      "execution_count": 10,
      "outputs": [
        {
          "output_type": "stream",
          "text": [
            "Tokenization done.\n",
            "Total number of tokens: 3733642. Vocab size: 30000\n",
            "Epoch 1/10\n",
            "583/583 [==============================] - 64s 109ms/step - loss: 10.4075\n",
            "Epoch 2/10\n",
            "583/583 [==============================] - 63s 109ms/step - loss: 9.8643\n",
            "Epoch 3/10\n",
            "583/583 [==============================] - 63s 109ms/step - loss: 9.7604\n",
            "Epoch 4/10\n",
            "583/583 [==============================] - 63s 109ms/step - loss: 9.6876\n",
            "Epoch 5/10\n",
            "583/583 [==============================] - 64s 109ms/step - loss: 9.6050\n",
            "Epoch 6/10\n",
            "583/583 [==============================] - 63s 109ms/step - loss: 9.5466\n",
            "Epoch 7/10\n",
            "583/583 [==============================] - 63s 109ms/step - loss: 9.5172\n",
            "Epoch 8/10\n",
            "583/583 [==============================] - 64s 109ms/step - loss: 9.4981\n",
            "Epoch 9/10\n",
            "583/583 [==============================] - 63s 109ms/step - loss: 9.4789\n",
            "Epoch 10/10\n",
            "583/583 [==============================] - 64s 109ms/step - loss: 9.4477\n",
            "Tokenization done.\n",
            "Total number of tokens: 3568991. Vocab size: 30000\n",
            "Epoch 1/10\n",
            "557/557 [==============================] - 61s 109ms/step - loss: 10.7456\n",
            "Epoch 2/10\n",
            "557/557 [==============================] - 61s 109ms/step - loss: 10.3152\n",
            "Epoch 3/10\n",
            "557/557 [==============================] - 61s 109ms/step - loss: 10.2314\n",
            "Epoch 4/10\n",
            "557/557 [==============================] - 61s 109ms/step - loss: 10.1500\n",
            "Epoch 5/10\n",
            "557/557 [==============================] - 61s 109ms/step - loss: 10.1077\n",
            "Epoch 6/10\n",
            "557/557 [==============================] - 61s 109ms/step - loss: 10.0638\n",
            "Epoch 7/10\n",
            "557/557 [==============================] - 61s 109ms/step - loss: 9.9566\n",
            "Epoch 8/10\n",
            "557/557 [==============================] - 61s 109ms/step - loss: 9.8936\n",
            "Epoch 9/10\n",
            "557/557 [==============================] - 61s 109ms/step - loss: 9.8322\n",
            "Epoch 10/10\n",
            "557/557 [==============================] - 61s 109ms/step - loss: 9.7857\n",
            "Tokenization done.\n",
            "Total number of tokens: 3780088. Vocab size: 30000\n",
            "Epoch 1/10\n",
            "590/590 [==============================] - 65s 110ms/step - loss: 9.3520\n",
            "Epoch 2/10\n",
            "590/590 [==============================] - 64s 109ms/step - loss: 9.0926\n",
            "Epoch 3/10\n",
            "590/590 [==============================] - 64s 109ms/step - loss: 8.9045\n",
            "Epoch 4/10\n",
            "590/590 [==============================] - 65s 110ms/step - loss: 8.8953\n",
            "Epoch 5/10\n",
            "590/590 [==============================] - 65s 110ms/step - loss: 8.8916\n",
            "Epoch 6/10\n",
            "590/590 [==============================] - 65s 109ms/step - loss: 8.8919\n",
            "Epoch 7/10\n",
            "590/590 [==============================] - 64s 109ms/step - loss: 8.9282\n",
            "Epoch 8/10\n",
            "590/590 [==============================] - 65s 109ms/step - loss: 8.8788\n",
            "Epoch 9/10\n",
            "590/590 [==============================] - 65s 109ms/step - loss: 8.9322\n",
            "Epoch 10/10\n",
            "590/590 [==============================] - 65s 109ms/step - loss: 9.0040\n"
          ],
          "name": "stdout"
        }
      ]
    },
    {
      "cell_type": "code",
      "metadata": {
        "id": "fawymzMXpmxe",
        "colab_type": "code",
        "colab": {
          "base_uri": "https://localhost:8080/",
          "height": 279
        },
        "outputId": "3dcefbcf-50a9-4c41-c16d-3063ef11f116"
      },
      "source": [
        "import matplotlib.pyplot as plt\n",
        "from scipy.interpolate import make_interp_spline, BSpline\n",
        "\n",
        "def get_smooth(data):\n",
        "  step = np.arange(len(data))\n",
        "  loss = data[:,1]\n",
        "  xnew = np.linspace(step.min(), step.max(), 300)  \n",
        "  spl = make_interp_spline(step, loss, k=3)  # type: BSpline\n",
        "  smooth = spl(xnew)\n",
        "  return xnew, smooth\n",
        "  \n",
        "for name, data in log.items():\n",
        "  data = np.array(data)\n",
        "  x, y = get_smooth(data)\n",
        "  plt.plot(x, y, label=name)\n",
        "\n",
        "plt.xlabel(\"step\")\n",
        "plt.ylabel(\"perplexity\")\n",
        "plt.legend()\n",
        "plt.show()"
      ],
      "execution_count": 11,
      "outputs": [
        {
          "output_type": "display_data",
          "data": {
            "image/png": "[encoded data removed]",
            "text/plain": [
              "<Figure size 432x288 with 1 Axes>"
            ]
          },
          "metadata": {
            "tags": [],
            "needs_background": "light"
          }
        }
      ]
    }
  ]
}